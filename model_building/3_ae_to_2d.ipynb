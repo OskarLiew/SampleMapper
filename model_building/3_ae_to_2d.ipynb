{
 "cells": [
  {
   "cell_type": "markdown",
   "id": "tracked-sector",
   "metadata": {},
   "source": [
    "# Encode to 2D with autoencoder"
   ]
  },
  {
   "cell_type": "code",
   "execution_count": 10,
   "id": "ancient-gravity",
   "metadata": {
    "ExecuteTime": {
     "end_time": "2021-02-26T07:26:40.293511Z",
     "start_time": "2021-02-26T07:26:40.289538Z"
    }
   },
   "outputs": [
    {
     "name": "stdout",
     "output_type": "stream",
     "text": [
      "Using device: cuda:0\n"
     ]
    }
   ],
   "source": [
    "import json\n",
    "\n",
    "from torch.utils.data import DataLoader, Dataset\n",
    "from torchvision import transforms\n",
    "import torch\n",
    "import torch.nn as nn\n",
    "import torch.nn.functional as F\n",
    "import torch.optim as optim\n",
    "from sklearn.manifold import TSNE\n",
    "import matplotlib.pyplot as plt\n",
    "import numpy as np\n",
    "\n",
    "from src.config import (\n",
    "    SPECTROGRAM_PATH,\n",
    "    MODEL_DIR,\n",
    "    SOUND_PATH_LIST,\n",
    "    SOUND_OUTPUT_PATH,\n",
    "    RESULTS_DIR,\n",
    "    SAMPLE_IDX,\n",
    "    TO_PATHS\n",
    ")\n",
    "from src.dataset import SoundsDataset, ToTensor, LimitLength, Scale\n",
    "from src.autoencoder_network import LSTMAutoEncoder\n",
    "\n",
    "AE_MODEL_PATH = MODEL_DIR / \"autoencoder_network.pth\"\n",
    "\n",
    "device = torch.device(\"cuda:0\" if torch.cuda.is_available() else \"cpu\")\n",
    "print(f\"Using device: {device}\")"
   ]
  },
  {
   "cell_type": "code",
   "execution_count": 2,
   "id": "weekly-somerset",
   "metadata": {
    "ExecuteTime": {
     "end_time": "2021-02-26T07:23:55.573527Z",
     "start_time": "2021-02-26T07:23:55.569522Z"
    }
   },
   "outputs": [],
   "source": [
    "def train_network(net, dataloader, epochs, optimizer, criterion):\n",
    "\n",
    "    for epoch in range(epochs):\n",
    "\n",
    "        running_loss = 0.0\n",
    "        for i, inputs in enumerate(dataloader):     \n",
    "            optimizer.zero_grad()\n",
    "            inputs = inputs.float().to(device)\n",
    "\n",
    "            # Forward -> Backward -> Optimize\n",
    "            outputs = net(inputs)\n",
    "            loss = criterion(outputs, inputs)\n",
    "            loss.backward()\n",
    "            optimizer.step()\n",
    "\n",
    "            # print statistics\n",
    "            running_loss += loss.item()\n",
    "            if i % 20 == 19:    # print every 20 mini-batches\n",
    "                print('[%d, %5d] loss: %.5f' %\n",
    "                      (epoch + 1, i + 1, running_loss / 20))\n",
    "                running_loss = 0.0"
   ]
  },
  {
   "cell_type": "code",
   "execution_count": 3,
   "id": "fancy-victory",
   "metadata": {
    "ExecuteTime": {
     "end_time": "2021-02-26T07:24:00.315636Z",
     "start_time": "2021-02-26T07:23:57.569570Z"
    }
   },
   "outputs": [],
   "source": [
    "transformations = transforms.Compose([ToTensor(), LimitLength(64), Scale()])\n",
    "dataset = SoundsDataset(SPECTROGRAM_PATH, transform=transformations)\n",
    "dataloader = DataLoader(dataset, batch_size=64, shuffle=True)\n",
    "\n",
    "input_dim = dataset[0].shape[-1]\n",
    "encoding_size = 2\n",
    "ae_net = LSTMAutoEncoder(input_dim, 256, encoding_size=encoding_size, encoder_layers=5).float().to(device)"
   ]
  },
  {
   "cell_type": "code",
   "execution_count": 4,
   "id": "pediatric-academy",
   "metadata": {
    "ExecuteTime": {
     "end_time": "2021-02-26T07:24:27.552636Z",
     "start_time": "2021-02-26T07:24:00.351635Z"
    }
   },
   "outputs": [
    {
     "name": "stdout",
     "output_type": "stream",
     "text": [
      "[1,    20] loss: 0.40403\n",
      "[1,    40] loss: 0.39242\n",
      "[1,    60] loss: 0.39735\n",
      "[1,    80] loss: 0.38633\n",
      "[1,   100] loss: 0.35952\n",
      "[1,   120] loss: 0.35869\n",
      "[1,   140] loss: 0.35753\n",
      "[1,   160] loss: 0.32828\n",
      "[1,   180] loss: 0.33605\n",
      "[1,   200] loss: 0.32149\n",
      "[1,   220] loss: 0.30899\n",
      "[2,    20] loss: 0.30051\n",
      "[2,    40] loss: 0.27873\n",
      "[2,    60] loss: 0.27183\n",
      "[2,    80] loss: 0.26956\n",
      "[2,   100] loss: 0.25187\n",
      "[2,   120] loss: 0.24862\n",
      "[2,   140] loss: 0.23383\n",
      "[2,   160] loss: 0.22456\n",
      "[2,   180] loss: 0.21769\n",
      "[2,   200] loss: 0.20559\n",
      "[2,   220] loss: 0.20182\n",
      "[3,    20] loss: 0.18513\n",
      "[3,    40] loss: 0.17405\n",
      "[3,    60] loss: 0.17278\n",
      "[3,    80] loss: 0.16795\n",
      "[3,   100] loss: 0.16656\n",
      "[3,   120] loss: 0.15511\n",
      "[3,   140] loss: 0.15728\n",
      "[3,   160] loss: 0.15978\n",
      "[3,   180] loss: 0.15415\n",
      "[3,   200] loss: 0.15363\n",
      "[3,   220] loss: 0.15739\n",
      "[4,    20] loss: 0.15517\n",
      "[4,    40] loss: 0.15379\n",
      "[4,    60] loss: 0.15632\n",
      "[4,    80] loss: 0.15253\n",
      "[4,   100] loss: 0.15543\n",
      "[4,   120] loss: 0.15561\n",
      "[4,   140] loss: 0.14825\n",
      "[4,   160] loss: 0.15484\n",
      "[4,   180] loss: 0.15655\n",
      "[4,   200] loss: 0.15577\n",
      "[4,   220] loss: 0.15107\n"
     ]
    }
   ],
   "source": [
    "epochs = 4\n",
    "criterion = nn.MSELoss()\n",
    "optimizer = optim.SGD(ae_net.parameters(), lr=0.005, momentum=0.9)\n",
    "\n",
    "train_network(ae_net, dataloader, epochs, optimizer, criterion)\n",
    "\n",
    "torch.save(ae_net.state_dict(), AE_MODEL_PATH)"
   ]
  },
  {
   "cell_type": "code",
   "execution_count": 5,
   "id": "electric-keeping",
   "metadata": {
    "ExecuteTime": {
     "end_time": "2021-02-26T07:24:30.923211Z",
     "start_time": "2021-02-26T07:24:30.906216Z"
    },
    "scrolled": true
   },
   "outputs": [
    {
     "data": {
      "text/plain": [
       "LSTMAutoEncoder(\n",
       "  (lstm_encoder): LSTMEncoder(\n",
       "    (encoder_lstm_list): ModuleList(\n",
       "      (0): LSTM(128, 256, batch_first=True)\n",
       "      (1): LSTM(256, 192, batch_first=True)\n",
       "      (2): LSTM(192, 129, batch_first=True)\n",
       "      (3): LSTM(129, 65, batch_first=True)\n",
       "      (4): LSTM(65, 2, batch_first=True)\n",
       "    )\n",
       "  )\n",
       "  (lstm_decoder): LSTMDecoder(\n",
       "    (decoder_lstm_list): ModuleList(\n",
       "      (0): LSTM(2, 65, batch_first=True)\n",
       "      (1): LSTM(65, 129, batch_first=True)\n",
       "      (2): LSTM(129, 192, batch_first=True)\n",
       "      (3): LSTM(192, 256, batch_first=True)\n",
       "    )\n",
       "    (output_layer): Linear(in_features=256, out_features=128, bias=True)\n",
       "  )\n",
       ")"
      ]
     },
     "execution_count": 5,
     "metadata": {},
     "output_type": "execute_result"
    }
   ],
   "source": [
    "ae_net.load_state_dict(torch.load(AE_MODEL_PATH))\n",
    "ae_net.eval()"
   ]
  },
  {
   "cell_type": "code",
   "execution_count": 11,
   "id": "liberal-provider",
   "metadata": {
    "ExecuteTime": {
     "end_time": "2021-02-26T07:27:07.651150Z",
     "start_time": "2021-02-26T07:27:07.405150Z"
    }
   },
   "outputs": [
    {
     "data": {
      "image/png": "[encoded data removed]",
      "text/plain": [
       "<Figure size 864x576 with 1 Axes>"
      ]
     },
     "metadata": {
      "needs_background": "light"
     },
     "output_type": "display_data"
    }
   ],
   "source": [
    "sample_tensor = np.array([dataset[i].numpy() for i in SAMPLE_IDX])\n",
    "sample_tensor = torch.tensor(sample_tensor, dtype=torch.float).to(device)\n",
    "latent = ae_net.encode(sample_tensor).detach().to(\"cpu\").numpy()\n",
    "latent = latent.reshape(latent.shape[0], latent.shape[2])\n",
    "\n",
    "fig, ax = plt.subplots(figsize=(12, 8))\n",
    "plt.scatter(latent[:, 0], latent[:, 1], s=0.1)\n",
    "plt.show()"
   ]
  },
  {
   "cell_type": "code",
   "execution_count": 12,
   "id": "distinguished-recording",
   "metadata": {
    "ExecuteTime": {
     "end_time": "2021-02-26T07:27:23.602378Z",
     "start_time": "2021-02-26T07:27:23.594378Z"
    }
   },
   "outputs": [],
   "source": [
    "results = {f\"tsne_{i}\": latent[:, i].tolist() for i in range(latent.shape[1])}\n",
    "results[\"path\"] = [path.split(\"/\")[-1] for path in TO_PATHS]\n",
    "\n",
    "with open(RESULTS_DIR / \"ae_samples.json\", \"w\") as fp:\n",
    "    json.dump(results, fp)"
   ]
  }
 ],
 "metadata": {
  "kernelspec": {
   "display_name": "Python 3",
   "language": "python",
   "name": "python3"
  },
  "language_info": {
   "codemirror_mode": {
    "name": "ipython",
    "version": 3
   },
   "file_extension": ".py",
   "mimetype": "text/x-python",
   "name": "python",
   "nbconvert_exporter": "python",
   "pygments_lexer": "ipython3",
   "version": "3.8.5"
  },
  "toc": {
   "base_numbering": 1,
   "nav_menu": {},
   "number_sections": true,
   "sideBar": true,
   "skip_h1_title": false,
   "title_cell": "Table of Contents",
   "title_sidebar": "Contents",
   "toc_cell": false,
   "toc_position": {},
   "toc_section_display": true,
   "toc_window_display": false
  },
  "varInspector": {
   "cols": {
    "lenName": 16,
    "lenType": 16,
    "lenVar": 40
   },
   "kernels_config": {
    "python": {
     "delete_cmd_postfix": "",
     "delete_cmd_prefix": "del ",
     "library": "var_list.py",
     "varRefreshCmd": "print(var_dic_list())"
    },
    "r": {
     "delete_cmd_postfix": ") ",
     "delete_cmd_prefix": "rm(",
     "library": "var_list.r",
     "varRefreshCmd": "cat(var_dic_list()) "
    }
   },
   "types_to_exclude": [
    "module",
    "function",
    "builtin_function_or_method",
    "instance",
    "_Feature"
   ],
   "window_display": false
  }
 },
 "nbformat": 4,
 "nbformat_minor": 5
}
